{
 "cells": [
  {
   "cell_type": "code",
   "execution_count": null,
   "metadata": {},
   "outputs": [],
   "source": [
    "import os\n",
    "import pandas as pd\n",
    "import matplotlib.pyplot as plt\n",
    "import seaborn as sns\n",
    "\n",
    "# Import your utility modules\n",
    "from preprocessing.utils import get_snapshot_filepaths\n",
    "from preprocessing.dataframe import load_dataframe, save_dataframe, load_snapshots_to_dataframe\n",
    "from visualisations.plot import plot_total_liquidity, plot_average_fee, plot_unique_makers\n",
    "from visualisations.fees import plot_fee_metrics, plot_fee_type_distribution, plot_fee_volume_metrics\n",
    "from analysis.fees import calculate_fee_statistics, calculate_time_based_statistics, compute_fee_ratios, compute_volume_metrics, calculate_liquidity_metrics, calculate_market_health_metrics"
   ]
  },
  {
   "cell_type": "code",
   "execution_count": null,
   "metadata": {},
   "outputs": [],
   "source": [
    "# Set up paths\n",
    "directory_path = '../data'  # Update this to your data directory path\n",
    "df_pickle_path = '../dataframe.pkl'  # Path where your DataFrame is saved\n",
    "\n",
    "# Load or compute the DataFrame\n",
    "if os.path.exists(df_pickle_path):\n",
    "    df_stats = load_dataframe(df_pickle_path)\n",
    "else:\n",
    "    filepaths = get_snapshot_filepaths(directory_path)\n",
    "    df_stats = load_snapshots_to_dataframe(filepaths)\n",
    "    save_dataframe(df_stats, df_pickle_path)\n",
    "\n",
    "# Display the first few rows\n",
    "df_stats.head()"
   ]
  },
  {
   "cell_type": "markdown",
   "metadata": {
    "collapsed": false
   },
   "source": [
    "Plot total liquidity"
   ]
  },
  {
   "cell_type": "code",
   "execution_count": null,
   "metadata": {},
   "outputs": [],
   "source": [
    "plt.figure(figsize=(12, 6))\n",
    "df_stats['total_liquidity'].plot()\n",
    "plt.title('Total Liquidity Over Time')\n",
    "plt.xlabel('Timestamp')\n",
    "plt.ylabel('Total Liquidity (satoshis)')\n",
    "plt.show()"
   ]
  },
  {
   "cell_type": "markdown",
   "metadata": {
    "collapsed": false
   },
   "source": [
    "Plot unique makers"
   ]
  },
  {
   "cell_type": "code",
   "execution_count": null,
   "metadata": {},
   "outputs": [],
   "source": [
    "plt.figure(figsize=(12, 6))\n",
    "df_stats['total_unique_makers'].plot()\n",
    "plt.title('Number of Unique Makers Over Time')\n",
    "plt.xlabel('Timestamp')\n",
    "plt.ylabel('Number of Unique Makers')\n",
    "plt.show()"
   ]
  },
  {
   "cell_type": "code",
   "execution_count": null,
   "metadata": {},
   "outputs": [],
   "source": [
    "# Cell: Compute Smoothed Data\n",
    "\n",
    "# Define window sizes\n",
    "rolling_window_size = 100  # Adjust as needed\n",
    "rolling_window_size_1000 = 1000  # Adjust as needed\n",
    "\n",
    "# Rolling Mean Smoothing\n",
    "df_stats['total_liquidity_smooth_100'] = df_stats['total_liquidity'].rolling(window=rolling_window_size, center=True).mean()\n",
    "df_stats['total_liquidity_smooth_1000'] = df_stats['total_liquidity'].rolling(window=rolling_window_size_1000, center=True).mean()"
   ]
  },
  {
   "cell_type": "code",
   "execution_count": null,
   "metadata": {},
   "outputs": [],
   "source": [
    "# Cell: Plot Total Liquidity with Rolling Mean Smoothing\n",
    "\n",
    "plt.figure(figsize=(12, 6))\n",
    "plt.plot(df_stats.index, df_stats['total_liquidity'], label='Original', alpha=0.5)\n",
    "plt.plot(df_stats.index, df_stats['total_liquidity_smooth_100'], label='Rolling Mean', color='red')\n",
    "plt.plot(df_stats.index, df_stats['total_liquidity_smooth_1000'], label='Rolling Mean 1000', color='yellow')\n",
    "plt.title('Total Liquidity Over Time (Rolling Mean Smoothed)')\n",
    "plt.xlabel('Timestamp')\n",
    "plt.ylabel('Total Liquidity (satoshis)')\n",
    "plt.legend()\n",
    "plt.show()"
   ]
  },
  {
   "cell_type": "code",
   "execution_count": null,
   "metadata": {},
   "outputs": [],
   "source": [
    "df_stats['total_unique_makers_smooth_100'] = df_stats['total_unique_makers'].rolling(window=rolling_window_size, center=True).mean()\n",
    "df_stats['total_unique_makers_smooth_1000'] = df_stats['total_unique_makers'].rolling(window=1000, center=True).mean()"
   ]
  },
  {
   "cell_type": "code",
   "execution_count": null,
   "metadata": {},
   "outputs": [],
   "source": [
    "# Cell: Plot Total Makers with Rolling Mean Smoothing\n",
    "\n",
    "plt.figure(figsize=(12, 6))\n",
    "plt.plot(df_stats.index, df_stats['total_unique_makers'], label='Original', alpha=0.5)\n",
    "plt.plot(df_stats.index, df_stats['total_unique_makers_smooth_100'], label='Rolling Mean', color='red')\n",
    "plt.plot(df_stats.index, df_stats['total_unique_makers_smooth_1000'], label='Rolling Mean 1000', color='yellow')\n",
    "plt.title('Total Makers Over Time (Rolling Mean Smoothed)')\n",
    "plt.xlabel('Timestamp')\n",
    "plt.ylabel('Number of Makers')\n",
    "plt.legend()\n",
    "plt.show()"
   ]
  },
  {
   "cell_type": "code",
   "execution_count": null,
   "metadata": {},
   "outputs": [],
   "source": [
    "# Plotting both datasets with twin axes\n",
    "fig, ax1 = plt.subplots(figsize=(12, 6))\n",
    "\n",
    "# Plot total liquidity on the primary y-axis\n",
    "color = 'tab:blue'\n",
    "ax1.set_xlabel('Timestamp')\n",
    "ax1.set_ylabel('Total Liquidity (satoshis)', color=color)\n",
    "ax1.plot(df_stats.index, df_stats['total_liquidity_smooth_1000'], color=color, label='Total Liquidity')\n",
    "ax1.tick_params(axis='y', labelcolor=color)\n",
    "\n",
    "# Create a secondary y-axis\n",
    "ax2 = ax1.twinx()\n",
    "\n",
    "# Plot total unique makers on the secondary y-axis\n",
    "color = 'tab:red'\n",
    "ax2.set_ylabel('Total Unique Makers', color=color)\n",
    "ax2.plot(df_stats.index, df_stats['total_unique_makers_smooth_1000'], color=color, label='Total Unique Makers')\n",
    "ax2.tick_params(axis='y', labelcolor=color)\n",
    "\n",
    "# Add a title and legend\n",
    "plt.title('Total Liquidity and Unique Makers Over Time')\n",
    "fig.tight_layout()\n",
    "plt.show()"
   ]
  },
  {
   "cell_type": "markdown",
   "metadata": {
    "collapsed": false
   },
   "source": [
    "Fee Analysis"
   ]
  },
  {
   "cell_type": "code",
   "execution_count": null,
   "metadata": {},
   "outputs": [],
   "source": [
    "# Calculate Fee Statistics\n",
    "fee_stats = calculate_fee_statistics(df_stats)\n",
    "print(\"Fee Statistics Summary:\")\n",
    "print(\"\\nRelative Fee Percentages:\")\n",
    "print(f\"Mean: {fee_stats['relative_percentage'].mean:.8f}\")\n",
    "print(f\"Median: {fee_stats['relative_percentage'].median:.8f}\")\n",
    "print(f\"Std: {fee_stats['relative_percentage'].std:.8f}\")\n",
    "print(f\"95th percentile: {fee_stats['relative_percentage'].percentiles['95']:.8f}\")\n",
    "\n",
    "print(\"\\nAbsolute Fee (satoshis):\")\n",
    "print(f\"Mean: {fee_stats['absolute_satoshis'].mean:,.2f}\")\n",
    "print(f\"Median: {fee_stats['absolute_satoshis'].median:,.2f}\")\n",
    "print(f\"Std: {fee_stats['absolute_satoshis'].std:,.2f}\")\n",
    "print(f\"95th percentile: {fee_stats['absolute_satoshis'].percentiles['95']:,.2f}\")"
   ]
  },
  {
   "cell_type": "code",
   "execution_count": null,
   "metadata": {},
   "outputs": [],
   "source": [
    "# Daily Statistics Analysis\n",
    "daily_stats = calculate_time_based_statistics(df_stats, freq='D')\n",
    "\n",
    "# Plot daily statistics\n",
    "fig, (ax1, ax2) = plt.subplots(2, 1, figsize=(12, 12))\n",
    "\n",
    "daily_stats['relative_fees_percentage_mean']['mean'].plot(ax=ax1)\n",
    "ax1.set_title('Daily Average Relative Fee Percentage')\n",
    "ax1.set_ylabel('Fee Percentage')\n",
    "\n",
    "daily_stats['absolute_fees_satoshis_mean']['mean'].plot(ax=ax2)\n",
    "ax2.set_title('Daily Average Absolute Fee (satoshis)')\n",
    "ax2.set_ylabel('Satoshis')\n",
    "\n",
    "plt.tight_layout()\n",
    "plt.show()"
   ]
  },
  {
   "cell_type": "code",
   "execution_count": null,
   "metadata": {},
   "outputs": [],
   "source": [
    "# Market Health Analysis\n",
    "liquidity_metrics = calculate_liquidity_metrics(df_stats)\n",
    "health_metrics = calculate_market_health_metrics(df_stats)\n",
    "\n",
    "print(\"Market Health Indicators:\")\n",
    "print(\"\\nLiquidity Metrics:\")\n",
    "print(f\"Average Liquidity: {liquidity_metrics['avg_liquidity']:,.0f} satoshis\")\n",
    "print(f\"Liquidity per Maker: {liquidity_metrics['liquidity_per_maker']:,.0f} satoshis\")\n",
    "print(f\"Liquidity Volatility: {liquidity_metrics['liquidity_volatility']:.4f}\")\n",
    "\n",
    "print(\"\\nMarket Health Metrics:\")\n",
    "print(f\"Maker Stability: {health_metrics['maker_stability']:.4f}\")\n",
    "print(f\"Fee Stability: {health_metrics['fee_stability']:.4f}\")\n",
    "print(f\"Market Depth: {health_metrics['market_depth']:,.0f}\")"
   ]
  },
  {
   "cell_type": "code",
   "execution_count": null,
   "metadata": {},
   "outputs": [],
   "source": [
    "# Fee Ratio Analysis\n",
    "fee_ratios = compute_fee_ratios(df_stats)\n",
    "volume_metrics = compute_volume_metrics(df_stats)\n",
    "\n",
    "# Plot fee ratios with volume\n",
    "fig, (ax1, ax2) = plt.subplots(2, 1, figsize=(12, 12))\n",
    "\n",
    "# Fee ratios plot\n",
    "ax1.plot(fee_ratios.index, fee_ratios['relative_ratio_smooth'], \n",
    "         label='Relative Fee Ratio', color='blue')\n",
    "ax1.plot(fee_ratios.index, fee_ratios['absolute_ratio_smooth'], \n",
    "         label='Absolute Fee Ratio', color='red')\n",
    "ax1.set_title('Fee Type Ratios Over Time')\n",
    "ax1.set_ylabel('Ratio')\n",
    "ax1.legend()\n",
    "\n",
    "# Volume plot\n",
    "ax2.plot(volume_metrics.index, volume_metrics['total_volume_smooth'], \n",
    "         label='Total Volume', color='green')\n",
    "ax2.set_title('Trading Volume Over Time')\n",
    "ax2.set_ylabel('Number of Offers')\n",
    "ax2.legend()\n",
    "\n",
    "plt.tight_layout()\n",
    "plt.show()"
   ]
  },
  {
   "cell_type": "code",
   "execution_count": null,
   "metadata": {},
   "outputs": [],
   "source": [
    "# Market Share Analysis\n",
    "fig, ax = plt.subplots(figsize=(12, 6))\n",
    "\n",
    "# Create stacked area plot\n",
    "ax.fill_between(volume_metrics.index, \n",
    "                volume_metrics['relative_share_smooth'], \n",
    "                label='Relative Fee Market Share', \n",
    "                alpha=0.5, color='blue')\n",
    "ax.fill_between(volume_metrics.index, \n",
    "                volume_metrics['absolute_share_smooth'], \n",
    "                label='Absolute Fee Market Share', \n",
    "                alpha=0.5, color='red')\n",
    "\n",
    "ax.set_title('Market Share by Fee Type')\n",
    "ax.set_ylabel('Share')\n",
    "ax.legend()\n",
    "plt.show()"
   ]
  },
  {
   "cell_type": "code",
   "execution_count": null,
   "metadata": {},
   "outputs": [],
   "source": [
    "# Correlation Analysis\n",
    "correlation_metrics = [\n",
    "    'total_liquidity', 'total_unique_makers',\n",
    "    'relative_fees_percentage_mean', 'absolute_fees_satoshis_mean',\n",
    "    'relative_fees_count', 'absolute_fees_count'\n",
    "]\n",
    "\n",
    "correlation_matrix = df_stats[correlation_metrics].corr()\n",
    "\n",
    "plt.figure(figsize=(10, 8))\n",
    "sns.heatmap(correlation_matrix, annot=True, cmap='coolwarm', center=0)\n",
    "plt.title('Correlation Matrix of Key Metrics')\n",
    "plt.tight_layout()\n",
    "plt.show()"
   ]
  },
  {
   "cell_type": "markdown",
   "metadata": {
    "collapsed": false
   },
   "source": [
    "Time-based Analysis"
   ]
  },
  {
   "cell_type": "code",
   "execution_count": null,
   "metadata": {},
   "outputs": [],
   "source": [
    "# Analyze hourly patterns\n",
    "df_stats['hour'] = df_stats.index.hour\n",
    "\n",
    "hourly_stats = df_stats.groupby('hour').agg({\n",
    "    'total_liquidity': 'mean',\n",
    "    'total_unique_makers': 'mean',\n",
    "    'relative_fees_percentage_mean': 'mean',\n",
    "    'absolute_fees_satoshis_mean': 'mean'\n",
    "})\n",
    "\n",
    "# Plot hourly patterns\n",
    "fig, ((ax1, ax2), (ax3, ax4)) = plt.subplots(2, 2, figsize=(15, 10))\n",
    "\n",
    "hourly_stats['total_liquidity'].plot(ax=ax1)\n",
    "ax1.set_title('Average Liquidity by Hour')\n",
    "ax1.set_ylabel('Satoshis')\n",
    "\n",
    "hourly_stats['total_unique_makers'].plot(ax=ax2)\n",
    "ax2.set_title('Average Makers by Hour')\n",
    "ax2.set_ylabel('Count')\n",
    "\n",
    "hourly_stats['relative_fees_percentage_mean'].plot(ax=ax3)\n",
    "ax3.set_title('Average Relative Fee by Hour')\n",
    "ax3.set_ylabel('Percentage')\n",
    "\n",
    "hourly_stats['absolute_fees_satoshis_mean'].plot(ax=ax4)\n",
    "ax4.set_title('Average Absolute Fee by Hour')\n",
    "ax4.set_ylabel('Satoshis')\n",
    "\n",
    "plt.tight_layout()\n",
    "plt.show()"
   ]
  },
  {
   "cell_type": "code",
   "execution_count": null,
   "metadata": {},
   "outputs": [],
   "source": [
    "# Weekly patterns\n",
    "df_stats['day_of_week'] = df_stats.index.day_name()\n",
    "\n",
    "weekly_stats = df_stats.groupby('day_of_week').agg({\n",
    "    'total_liquidity': 'mean',\n",
    "    'total_unique_makers': 'mean',\n",
    "    'relative_fees_percentage_mean': 'mean',\n",
    "    'absolute_fees_satoshis_mean': 'mean'\n",
    "})\n",
    "\n",
    "# Reorder days\n",
    "day_order = ['Monday', 'Tuesday', 'Wednesday', 'Thursday', 'Friday', 'Saturday', 'Sunday']\n",
    "weekly_stats = weekly_stats.reindex(day_order)\n",
    "\n",
    "# Plot weekly patterns\n",
    "fig, ((ax1, ax2), (ax3, ax4)) = plt.subplots(2, 2, figsize=(15, 10))\n",
    "\n",
    "weekly_stats['total_liquidity'].plot(kind='bar', ax=ax1)\n",
    "ax1.set_title('Average Liquidity by Day')\n",
    "ax1.set_ylabel('Satoshis')\n",
    "ax1.tick_params(axis='x', rotation=45)\n",
    "\n",
    "weekly_stats['total_unique_makers'].plot(kind='bar', ax=ax2)\n",
    "ax2.set_title('Average Makers by Day')\n",
    "ax2.set_ylabel('Count')\n",
    "ax2.tick_params(axis='x', rotation=45)\n",
    "\n",
    "weekly_stats['relative_fees_percentage_mean'].plot(kind='bar', ax=ax3)\n",
    "ax3.set_title('Average Relative Fee by Day')\n",
    "ax3.set_ylabel('Percentage')\n",
    "ax3.tick_params(axis='x', rotation=45)\n",
    "\n",
    "weekly_stats['absolute_fees_satoshis_mean'].plot(kind='bar', ax=ax4)\n",
    "ax4.set_title('Average Absolute Fee by Day')\n",
    "ax4.set_ylabel('Satoshis')\n",
    "ax4.tick_params(axis='x', rotation=45)\n",
    "\n",
    "plt.tight_layout()\n",
    "plt.show()"
   ]
  },
  {
   "cell_type": "markdown",
   "metadata": {
    "collapsed": false
   },
   "source": [
    "Liquidity Distribution Analysis"
   ]
  },
  {
   "cell_type": "code",
   "execution_count": null,
   "metadata": {},
   "outputs": [],
   "source": [
    "# Analyze liquidity distribution\n",
    "fig, (ax1, ax2) = plt.subplots(1, 2, figsize=(15, 6))\n",
    "\n",
    "# Histogram of liquidity\n",
    "sns.histplot(data=df_stats, x='total_liquidity', bins=50, ax=ax1)\n",
    "ax1.set_title('Distribution of Total Liquidity')\n",
    "ax1.set_xlabel('Satoshis')\n",
    "\n",
    "# Box plot of liquidity by day of week\n",
    "sns.boxplot(data=df_stats, x='day_of_week', y='total_liquidity', ax=ax2)\n",
    "ax2.set_title('Liquidity Distribution by Day')\n",
    "ax2.set_xlabel('Day of Week')\n",
    "ax2.set_ylabel('Satoshis')\n",
    "ax2.tick_params(axis='x', rotation=45)\n",
    "\n",
    "plt.tight_layout()\n",
    "plt.show()"
   ]
  },
  {
   "cell_type": "code",
   "execution_count": null,
   "metadata": {},
   "outputs": [],
   "source": [
    "# Fee Distribution Analysis\n",
    "fig, ((ax1, ax2), (ax3, ax4)) = plt.subplots(2, 2, figsize=(15, 10))\n",
    "\n",
    "# Relative fee percentage distribution\n",
    "sns.histplot(data=df_stats, x='relative_fees_percentage_mean', bins=50, ax=ax1)\n",
    "ax1.set_title('Distribution of Relative Fee Percentages')\n",
    "ax1.set_xlabel('Percentage')\n",
    "\n",
    "# Absolute fee distribution\n",
    "sns.histplot(data=df_stats, x='absolute_fees_satoshis_mean', bins=50, ax=ax2)\n",
    "ax2.set_title('Distribution of Absolute Fees')\n",
    "ax2.set_xlabel('Satoshis')\n",
    "\n",
    "# Box plot of relative fees by day\n",
    "sns.boxplot(data=df_stats, x='day_of_week', y='relative_fees_percentage_mean', ax=ax3)\n",
    "ax3.set_title('Relative Fee Distribution by Day')\n",
    "ax3.set_xlabel('Day of Week')\n",
    "ax3.set_ylabel('Percentage')\n",
    "ax3.tick_params(axis='x', rotation=45)\n",
    "\n",
    "# Box plot of absolute fees by day\n",
    "sns.boxplot(data=df_stats, x='day_of_week', y='absolute_fees_satoshis_mean', ax=ax4)\n",
    "ax4.set_title('Absolute Fee Distribution by Day')\n",
    "ax4.set_xlabel('Day of Week')\n",
    "ax4.set_ylabel('Satoshis')\n",
    "ax4.tick_params(axis='x', rotation=45)\n",
    "\n",
    "plt.tight_layout()\n",
    "plt.show()"
   ]
  }
 ],
 "metadata": {
  "kernelspec": {
   "display_name": "Python 3",
   "language": "python",
   "name": "python3"
  },
  "language_info": {
   "codemirror_mode": {
    "name": "ipython",
    "version": 2
   },
   "file_extension": ".py",
   "mimetype": "text/x-python",
   "name": "python",
   "nbconvert_exporter": "python",
   "pygments_lexer": "ipython2",
   "version": "2.7.6"
  }
 },
 "nbformat": 4,
 "nbformat_minor": 0
}
